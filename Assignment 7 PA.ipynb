{
 "cells": [
  {
   "cell_type": "code",
   "execution_count": null,
   "id": "052ebc03",
   "metadata": {},
   "outputs": [],
   "source": [
    "Q1. What is the purpose of the try statement?"
   ]
  },
  {
   "cell_type": "code",
   "execution_count": null,
   "id": "e56973a0",
   "metadata": {},
   "outputs": [],
   "source": [
    "try statement is used for exception handling in python. it consists of a block of risky statements which might cause an exception during runtime. if code within try block raises exception, then the exception will be reverted to the corresponding except block if multiple except blocks are present, else it willbe reverted to the default except block. In short try and except in union avoid programs from crashing during runtime due to exceptions."
   ]
  },
  {
   "cell_type": "code",
   "execution_count": 1,
   "id": "5daa371e",
   "metadata": {},
   "outputs": [
    {
     "name": "stdout",
     "output_type": "stream",
     "text": [
      "Division by Zero is Not Possible\n"
     ]
    }
   ],
   "source": [
    "try:\n",
    "    print(10/0)\n",
    "except ZeroDivisionError:\n",
    "    print('Division by Zero is Not Possible')"
   ]
  },
  {
   "cell_type": "code",
   "execution_count": null,
   "id": "7c014a97",
   "metadata": {},
   "outputs": [],
   "source": [
    "Q2. What are the two most popular try statement variations?"
   ]
  },
  {
   "cell_type": "code",
   "execution_count": null,
   "id": "758d9428",
   "metadata": {},
   "outputs": [],
   "source": [
    "The Popular try statement variations are:\n",
    "\n",
    "try,except\n",
    "try,except,finally\n",
    "try,except,finally,else\n",
    "The try block is used to check code for exceptions during runtime. ie code inside try block will execute completely when there is no error in the program. Whereas the code inside except block will execute whenever the program encounters some error in the preceeding try block.\n",
    "\n",
    "Whereas the code enters the else block if and only if the try clause does not raise and exception. The code in the finally block will execute irrespective of exception."
   ]
  },
  {
   "cell_type": "code",
   "execution_count": null,
   "id": "b06b1156",
   "metadata": {},
   "outputs": [],
   "source": [
    "Q3. What is the purpose of the raise statement?"
   ]
  },
  {
   "cell_type": "code",
   "execution_count": null,
   "id": "d9301b65",
   "metadata": {},
   "outputs": [],
   "source": [
    " raise statement is used to trigger an exception explicitly, if a certain condition is not as per requirement of programmer. raise statement helps in triggering exception as per programming logic."
   ]
  },
  {
   "cell_type": "code",
   "execution_count": null,
   "id": "66d78fd3",
   "metadata": {},
   "outputs": [],
   "source": [
    "Q4. What does the assert statement do, and what other statement is it like?"
   ]
  },
  {
   "cell_type": "code",
   "execution_count": null,
   "id": "1774f0d9",
   "metadata": {},
   "outputs": [],
   "source": [
    "There are few assertions that programmer always want to be true to avoid code failure. This type of requirement is fulfilled by assert statement. This statement takes a boolean condition output of which is True, Further Program Executes. if output of assert statement is False, it raises an Assertion Error."
   ]
  },
  {
   "cell_type": "code",
   "execution_count": null,
   "id": "6ce6fee1",
   "metadata": {},
   "outputs": [],
   "source": [
    "Q5. What is the purpose of the with/as argument, and what other statement is it like?"
   ]
  },
  {
   "cell_type": "code",
   "execution_count": null,
   "id": "9a14352c",
   "metadata": {},
   "outputs": [],
   "source": [
    "with/as statement simplifies use of file handling in python. When we use a with statement for file reading, there is no need for programmer to explicitly takecare of activities like resource deallocation and file closing by using file.close() method. with statement itself ensures proper acquisition and release of resources. this avoids triggering of exceptions if file closing is unknowingly forgotten in the code execution.\n",
    "\n",
    "with open('sample_file.txt','w') as file: file.write('Hello World')"
   ]
  },
  {
   "cell_type": "code",
   "execution_count": null,
   "id": "d1f413a3",
   "metadata": {},
   "outputs": [],
   "source": []
  },
  {
   "cell_type": "code",
   "execution_count": null,
   "id": "60ff381c",
   "metadata": {},
   "outputs": [],
   "source": []
  }
 ],
 "metadata": {
  "kernelspec": {
   "display_name": "Python 3 (ipykernel)",
   "language": "python",
   "name": "python3"
  },
  "language_info": {
   "codemirror_mode": {
    "name": "ipython",
    "version": 3
   },
   "file_extension": ".py",
   "mimetype": "text/x-python",
   "name": "python",
   "nbconvert_exporter": "python",
   "pygments_lexer": "ipython3",
   "version": "3.9.7"
  }
 },
 "nbformat": 4,
 "nbformat_minor": 5
}
