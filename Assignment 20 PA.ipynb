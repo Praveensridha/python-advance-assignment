{
 "cells": [
  {
   "cell_type": "code",
   "execution_count": null,
   "id": "472c3551",
   "metadata": {},
   "outputs": [],
   "source": [
    "1. Compare and contrast the float and Decimal classes' benefits and drawbacks ?"
   ]
  },
  {
   "cell_type": "code",
   "execution_count": null,
   "id": "be5acb02",
   "metadata": {},
   "outputs": [],
   "source": [
    "Both the float and decimal types store numerical values in Python.\n",
    "\n",
    "Use floats when convenience and speed matter. A float gives you an approximation of the number you declare.\n",
    "\n",
    "Use decimals when precision matters. Decimals can suffer from their own precision issues, but generally, decimals are more precise than floats. The performance difference between float and decimal, with Python 3, is not outlandish, and in my experience, the precision benefits of a decimal outweigh the performance benefits of a float."
   ]
  },
  {
   "cell_type": "code",
   "execution_count": null,
   "id": "237b5cc4",
   "metadata": {},
   "outputs": [],
   "source": [
    "2. Decimal('1.200') and Decimal('1.2') are two objects to consider. In what sense are these the same object? Are these just two ways of representing the exact same value, or do they correspond to different internal states ?"
   ]
  },
  {
   "cell_type": "code",
   "execution_count": null,
   "id": "dec502ba",
   "metadata": {},
   "outputs": [],
   "source": [
    "Both values are same but internal representation at storage Is different. Precsion differs, Decimal('1.200') gives internally 1.200 and Decimal('1.2') gives 1.2."
   ]
  },
  {
   "cell_type": "code",
   "execution_count": null,
   "id": "db2a2a04",
   "metadata": {},
   "outputs": [],
   "source": [
    "3. What happens if the equality of Decimal('1.200') and Decimal('1.2') is checked ?"
   ]
  },
  {
   "cell_type": "code",
   "execution_count": null,
   "id": "ad893f5b",
   "metadata": {},
   "outputs": [],
   "source": [
    "Both values are checked to be equal , they only differ in precision."
   ]
  },
  {
   "cell_type": "code",
   "execution_count": null,
   "id": "5ce6d53f",
   "metadata": {},
   "outputs": [],
   "source": [
    "4. Why is it preferable to start a Decimal object with a string rather than a floating-point value ?"
   ]
  },
  {
   "cell_type": "code",
   "execution_count": null,
   "id": "b05061c5",
   "metadata": {},
   "outputs": [],
   "source": [
    "Floating-point value is converted to Decimal format. Decimal can store float value with absolute precision. But when float value is given as Decimal object,it first has to be converted from floating point value which might already have rounding error.\n",
    "\n",
    "Hence it is preferable to start a Decimal object with a string."
   ]
  },
  {
   "cell_type": "code",
   "execution_count": null,
   "id": "fa9ef746",
   "metadata": {},
   "outputs": [],
   "source": [
    "5. In an arithmetic phrase, how simple is it to combine Decimal objects with integers ?"
   ]
  },
  {
   "cell_type": "code",
   "execution_count": null,
   "id": "2e42abff",
   "metadata": {},
   "outputs": [],
   "source": [
    "We can do it with use of Decimal()."
   ]
  },
  {
   "cell_type": "code",
   "execution_count": null,
   "id": "7c54e916",
   "metadata": {},
   "outputs": [],
   "source": [
    "6. Can Decimal objects and floating-point values be combined easily ?"
   ]
  },
  {
   "cell_type": "code",
   "execution_count": null,
   "id": "bb30d3d0",
   "metadata": {},
   "outputs": [],
   "source": [
    "Arithmetic operfations like Adding,subtracting or multiplying a Decimal object by a floating-point value is generates an error.\n",
    "\n",
    "To do these operations, the floating point has to be converted to a Decimal."
   ]
  },
  {
   "cell_type": "code",
   "execution_count": null,
   "id": "430bc388",
   "metadata": {},
   "outputs": [],
   "source": [
    "7. Using the Fraction class but not the Decimal class, give an example of a quantity that can be expressed with absolute precision ?"
   ]
  },
  {
   "cell_type": "code",
   "execution_count": null,
   "id": "46af5db7",
   "metadata": {},
   "outputs": [],
   "source": [
    "Value of 0.5 will be represented as ½."
   ]
  },
  {
   "cell_type": "code",
   "execution_count": null,
   "id": "af148c8c",
   "metadata": {},
   "outputs": [],
   "source": [
    "8.Consider the following two fraction objects: Fraction(1, 2) and Fraction(1, 2). (5, 10). Is the internal state of these two objects the same? Why do you think that is ?"
   ]
  },
  {
   "cell_type": "code",
   "execution_count": null,
   "id": "e93ac6c1",
   "metadata": {},
   "outputs": [],
   "source": [
    "Both will be reduced to 1/2"
   ]
  },
  {
   "cell_type": "code",
   "execution_count": null,
   "id": "bf3ff8f0",
   "metadata": {},
   "outputs": [],
   "source": [
    "9. How do the Fraction class and the integer type (int) relate to each other? Containment or inheritance ?"
   ]
  },
  {
   "cell_type": "code",
   "execution_count": null,
   "id": "4fb34ac7",
   "metadata": {},
   "outputs": [],
   "source": [
    "Fraction class and integer type(int) are related in form of a container.It contains two ints, one the numerator and the other the denominator"
   ]
  }
 ],
 "metadata": {
  "kernelspec": {
   "display_name": "Python 3 (ipykernel)",
   "language": "python",
   "name": "python3"
  },
  "language_info": {
   "codemirror_mode": {
    "name": "ipython",
    "version": 3
   },
   "file_extension": ".py",
   "mimetype": "text/x-python",
   "name": "python",
   "nbconvert_exporter": "python",
   "pygments_lexer": "ipython3",
   "version": "3.9.7"
  }
 },
 "nbformat": 4,
 "nbformat_minor": 5
}
